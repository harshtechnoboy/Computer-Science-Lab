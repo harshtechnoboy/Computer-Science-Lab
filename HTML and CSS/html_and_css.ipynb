{
 "cells": [
  {
   "attachments": {},
   "cell_type": "markdown",
   "id": "korean-wednesday",
   "metadata": {},
   "source": [
    "# HTML and CSS\n",
    "You should build your personal web page using HTML and CSS. In particular, you should do the following:\n",
    "- Check [W3Schools](https://www.w3schools.com/html/default.asp) tutorials to familiarize yourself with different features of HTML and CSS.\n",
    "- Create a simple static web page for your portfolio using HTML.\n",
    "- Format the layout of the web page using CSS."
   ]
  },
  {
   "attachments": {},
   "cell_type": "markdown",
   "id": "5c8e4791",
   "metadata": {},
   "source": [
    "# Created a single page portfolio using basic HTML and CSS"
   ]
  },
  {
   "cell_type": "code",
   "execution_count": 1,
   "id": "1e786a9d",
   "metadata": {},
   "outputs": [
    {
     "data": {
      "text/html": [
       "<img src=\"portfolio_screenshot.png\" width=\"600\" height=\"1000\"/>"
      ],
      "text/plain": [
       "<IPython.core.display.Image object>"
      ]
     },
     "execution_count": 1,
     "metadata": {},
     "output_type": "execute_result"
    }
   ],
   "source": [
    "# importing the image module\n",
    "from IPython.display import Image\n",
    "  \n",
    "# defining the source of the image\n",
    "Image(url=\"portfolio_screenshot.png\", width=600 ,height=1000)"
   ]
  }
 ],
 "metadata": {
  "kernelspec": {
   "display_name": "Python 3 (ipykernel)",
   "language": "python",
   "name": "python3"
  },
  "language_info": {
   "codemirror_mode": {
    "name": "ipython",
    "version": 3
   },
   "file_extension": ".py",
   "mimetype": "text/x-python",
   "name": "python",
   "nbconvert_exporter": "python",
   "pygments_lexer": "ipython3",
   "version": "3.10.9"
  }
 },
 "nbformat": 4,
 "nbformat_minor": 5
}
