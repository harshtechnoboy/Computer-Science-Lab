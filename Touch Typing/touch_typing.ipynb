{
 "cells": [
  {
   "attachments": {},
   "cell_type": "markdown",
   "id": "korean-wednesday",
   "metadata": {},
   "source": [
    "# Touch Typing\n",
    "You should develop your touch typing skills through the term. In particular, you should do the following:\n",
    "- Do an online typing test with your default typing style using websites such as [TypingAcademy](https://www.typing.academy/typing-tutor/typing-test). Write down the results in the following table. \n",
    "- Start doing online touch typing exercises using websites such as [TypingClub](https://www.typingclub.com/).\n",
    "- Keep doing the exercises and updating the following table until the end of the term. Present the table and discuss your progress in your final assignment.  \n",
    "\n",
    "| Date | Words per Minute | Error Rate | \n",
    "|------|------------------|------------|\n",
    "|2023-04-28|\t  55\t  |      3%|\n",
    "|2023-05-05|\t  62\t  |          2%|\n",
    "|2023-05-12|\t  58\t  |          1%|\n",
    "|2023-05-19|\t  65\t  |          1%|\n",
    "|2023-05-26|\t  70\t  |         1.5%|\n",
    "|2023-06-02|\t  68\t  |          1%|\n",
    "|2023-06-09|\t  71\t  |         1.4%|\n",
    "|2023-06-16|      65\t  |         1.5%|\n",
    "|2023-06-23|      68\t  |         1.2%|\n",
    "|2023-06-29|      70\t  |         1.3%|"
   ]
  },
  {
   "attachments": {},
   "cell_type": "markdown",
   "id": "0962cd88",
   "metadata": {},
   "source": [
    "## Highest typing speed: (71wpm) "
   ]
  },
  {
   "cell_type": "code",
   "execution_count": 3,
   "id": "16afd3b4",
   "metadata": {},
   "outputs": [
    {
     "data": {
      "text/html": [
       "<img src=\"touch_typing_score.png\" width=\"600\" height=\"500\"/>"
      ],
      "text/plain": [
       "<IPython.core.display.Image object>"
      ]
     },
     "execution_count": 3,
     "metadata": {},
     "output_type": "execute_result"
    }
   ],
   "source": [
    "# importing the image module\n",
    "from IPython.display import Image\n",
    "  \n",
    "# defining the source of the image\n",
    "Image(url=\"touch_typing_score.png\", width=600, height=500)"
   ]
  }
 ],
 "metadata": {
  "kernelspec": {
   "display_name": "Python 3 (ipykernel)",
   "language": "python",
   "name": "python3"
  },
  "language_info": {
   "codemirror_mode": {
    "name": "ipython",
    "version": 3
   },
   "file_extension": ".py",
   "mimetype": "text/x-python",
   "name": "python",
   "nbconvert_exporter": "python",
   "pygments_lexer": "ipython3",
   "version": "3.10.9"
  }
 },
 "nbformat": 4,
 "nbformat_minor": 5
}
