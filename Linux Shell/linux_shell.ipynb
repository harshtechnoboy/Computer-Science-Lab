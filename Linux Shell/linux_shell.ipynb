{
 "cells": [
  {
   "attachments": {},
   "cell_type": "markdown",
   "id": "korean-wednesday",
   "metadata": {},
   "source": [
    "# Linux Shell\n",
    "You should work with the Linux shell. In particular, you should do the following in the terminal:"
   ]
  },
  {
   "attachments": {},
   "cell_type": "markdown",
   "id": "2f0210cd",
   "metadata": {},
   "source": [
    "## Check your current working directory.\n",
    "`pwd`"
   ]
  },
  {
   "attachments": {},
   "cell_type": "markdown",
   "id": "9c48221b",
   "metadata": {},
   "source": [
    "## Go to the /tmp directory.\n",
    "`cd /tmp`"
   ]
  },
  {
   "attachments": {},
   "cell_type": "markdown",
   "id": "fb0e6b01",
   "metadata": {},
   "source": [
    "## Check the list of files and directories.\n",
    "`ls`"
   ]
  },
  {
   "attachments": {},
   "cell_type": "markdown",
   "id": "e089d0ea",
   "metadata": {},
   "source": [
    "## Create a new directory named exercise.\n",
    "`mkdir exercise`"
   ]
  },
  {
   "attachments": {},
   "cell_type": "markdown",
   "id": "0e373a0f",
   "metadata": {},
   "source": [
    "## Go to the exercise directory.\n",
    "`cd exercise`"
   ]
  },
  {
   "attachments": {},
   "cell_type": "markdown",
   "id": "1aac1642",
   "metadata": {},
   "source": [
    "## Create a file named file_1.txt and write \"Hello World!\" into it.\n",
    "`echo \"Hello World!\" > file_1.txt`"
   ]
  },
  {
   "attachments": {},
   "cell_type": "markdown",
   "id": "ff306917",
   "metadata": {},
   "source": [
    "## Check the content of the new file_1.txt file.\n",
    "`cat file_1.txt`"
   ]
  },
  {
   "attachments": {},
   "cell_type": "markdown",
   "id": "5f98e023",
   "metadata": {},
   "source": [
    "## Create an empty file and write the list of files on your Desktop in it.\n",
    "`ls ~/Desktop > hidden_file.txt`"
   ]
  },
  {
   "attachments": {},
   "cell_type": "markdown",
   "id": "99b9a54f",
   "metadata": {},
   "source": [
    "## Check the content of the new hidden file.\n",
    "`cat hidden_file.txt`"
   ]
  },
  {
   "attachments": {},
   "cell_type": "markdown",
   "id": "0c278c98",
   "metadata": {},
   "source": [
    "## Append the text \"This file is confidential\" to the end of the hidden file.\n",
    "`echo \"This file is confidential\" >> hidden_file.txt`"
   ]
  },
  {
   "attachments": {},
   "cell_type": "markdown",
   "id": "7094d899",
   "metadata": {},
   "source": [
    "## Check the content of the new hidden file.\n",
    "`cat hidden_file.txt`"
   ]
  },
  {
   "attachments": {},
   "cell_type": "markdown",
   "id": "c849cfd3",
   "metadata": {},
   "source": [
    "## Go to the home directory.\n",
    "`cd ~`"
   ]
  },
  {
   "attachments": {},
   "cell_type": "markdown",
   "id": "ad690332",
   "metadata": {},
   "source": [
    "## Create a file named home_file.txt and write \"This is a file in my home directory.\" into it.\n",
    "`echo \"This is a file in my home directory.\" > home_file.txt`"
   ]
  },
  {
   "attachments": {},
   "cell_type": "markdown",
   "id": "92ec5344",
   "metadata": {},
   "source": [
    "## Move home_file.txt from your home directory to /tmp/exercise.\n",
    "`mv home_file.txt /tmp/exercise`"
   ]
  },
  {
   "attachments": {},
   "cell_type": "markdown",
   "id": "de8027af",
   "metadata": {},
   "source": [
    "## Rename home_file.txt to file_2.txt.\n",
    "`mv /tmp/exercise/home_file.txt /tmp/exercise/file_2.txt`"
   ]
  },
  {
   "attachments": {},
   "cell_type": "markdown",
   "id": "49ad96a8",
   "metadata": {},
   "source": [
    "## Go to the /tmp/exercise directory.\n",
    "`cd /tmp/exercise`"
   ]
  },
  {
   "attachments": {},
   "cell_type": "markdown",
   "id": "83a5dc03",
   "metadata": {},
   "source": [
    "## Merge file_1.txt and file_2.txt and write the result into a new file named file_3.txt.\n",
    "`cat file_1.txt file_2.txt > file_3.txt`"
   ]
  },
  {
   "attachments": {},
   "cell_type": "markdown",
   "id": "56391e4b",
   "metadata": {},
   "source": [
    "## Check the content of the new file_3.txt file.\n",
    "`cat file_3.txt`"
   ]
  },
  {
   "attachments": {},
   "cell_type": "markdown",
   "id": "6836bc48",
   "metadata": {},
   "source": [
    "## Append file_1.txt, file_2.txt, and file_3.txt to the end of the hidden file.\n",
    "`cat file_1.txt file_2.txt file_3.txt >> hidden_file.txt`"
   ]
  },
  {
   "attachments": {},
   "cell_type": "markdown",
   "id": "215f953b",
   "metadata": {},
   "source": [
    "## List all (including hidden) files in /tmp/exercise.\n",
    "`ls -a`"
   ]
  },
  {
   "attachments": {},
   "cell_type": "markdown",
   "id": "2f42613a",
   "metadata": {},
   "source": [
    "## Find the number of lines in the hidden file.\n",
    "`wc -l hidden_file.txt`"
   ]
  },
  {
   "attachments": {},
   "cell_type": "markdown",
   "id": "4df89ef2",
   "metadata": {},
   "source": [
    "## Find the number of unique lines in the hidden file.\n",
    "`sort -u hidden_file.txt | wc -l`"
   ]
  },
  {
   "attachments": {},
   "cell_type": "markdown",
   "id": "93d6e383",
   "metadata": {},
   "source": [
    "## Find all rows of the hidden file that contain the character \"a\".\n",
    "`grep \"a\" hidden_file.txt`"
   ]
  },
  {
   "attachments": {},
   "cell_type": "markdown",
   "id": "b0f3ef2a",
   "metadata": {},
   "source": [
    "## Check the owner and permissions of files in /tmp/exercise.\n",
    "`ls -l`"
   ]
  },
  {
   "attachments": {},
   "cell_type": "markdown",
   "id": "7f6d75a6",
   "metadata": {},
   "source": [
    "## Change the permissions of file_1.txt to be readable, writeable, and executable by everyone.\n",
    "`chmod a+rwx file_1.txt`"
   ]
  },
  {
   "attachments": {},
   "cell_type": "markdown",
   "id": "1c176052",
   "metadata": {},
   "source": [
    "## Remove the whole /tmp/exercise directory.\n",
    "`rm -r /tmp/exercise`"
   ]
  }
 ],
 "metadata": {
  "kernelspec": {
   "display_name": "Python 3 (ipykernel)",
   "language": "python",
   "name": "python3"
  },
  "language_info": {
   "codemirror_mode": {
    "name": "ipython",
    "version": 3
   },
   "file_extension": ".py",
   "mimetype": "text/x-python",
   "name": "python",
   "nbconvert_exporter": "python",
   "pygments_lexer": "ipython3",
   "version": "3.10.9"
  }
 },
 "nbformat": 4,
 "nbformat_minor": 5
}
